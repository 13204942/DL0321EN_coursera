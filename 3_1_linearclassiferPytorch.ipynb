{
  "nbformat": 4,
  "nbformat_minor": 0,
  "metadata": {
    "kernelspec": {
      "display_name": "Python 3",
      "language": "python",
      "name": "python3"
    },
    "language_info": {
      "codemirror_mode": {
        "name": "ipython",
        "version": 3
      },
      "file_extension": ".py",
      "mimetype": "text/x-python",
      "name": "python",
      "nbconvert_exporter": "python",
      "pygments_lexer": "ipython3",
      "version": "3.6.8"
    },
    "colab": {
      "name": "3.1_linearclassiferPytorch.ipynb",
      "provenance": [],
      "collapsed_sections": []
    }
  },
  "cells": [
    {
      "cell_type": "markdown",
      "metadata": {
        "id": "PmCgQjegVk6r",
        "colab_type": "text"
      },
      "source": [
        "<a href=\"http://cocl.us/pytorch_link_top\">\n",
        "    <img src=\"https://s3-api.us-geo.objectstorage.softlayer.net/cf-courses-data/CognitiveClass/DL0110EN/notebook_images%20/Pytochtop.png\" width=\"750\" alt=\"IBM Product \" />\n",
        "</a> "
      ]
    },
    {
      "cell_type": "markdown",
      "metadata": {
        "id": "0auvrcmOVk6t",
        "colab_type": "text"
      },
      "source": [
        "<img src=\"https://s3-api.us-geo.objectstorage.softlayer.net/cf-courses-data/CognitiveClass/DL0110EN/notebook_images%20/cc-logo-square.png\" width=\"200\" alt=\"cognitiveclass.ai logo\" />"
      ]
    },
    {
      "cell_type": "markdown",
      "metadata": {
        "id": "PI-A414NVk6u",
        "colab_type": "text"
      },
      "source": [
        "<h1>Linear  Classifier with PyTorch </h1>"
      ]
    },
    {
      "cell_type": "markdown",
      "metadata": {
        "id": "FH8gi5DqVk6u",
        "colab_type": "text"
      },
      "source": [
        "<p>Before you use a  Deep neural network to solve the classification problem,  it 's a good idea to try and solve the problem with the simplest method. You will need the dataset object from the previous section.\n",
        "In this lab, we solve the problem with a linear classifier.\n",
        " You will be asked to determine the maximum accuracy your linear classifier can achieve on the validation data for 5 epochs. We will give some free parameter values if you follow the instructions you will be able to answer the quiz. Just like the other labs there are several steps, but in this lab you will only be quizzed on the final result. </p>"
      ]
    },
    {
      "cell_type": "markdown",
      "metadata": {
        "id": "ViCRXrIkVk6v",
        "colab_type": "text"
      },
      "source": [
        "<h2>Table of Contents</h2>"
      ]
    },
    {
      "cell_type": "markdown",
      "metadata": {
        "id": "K4H7JmB6Vk6w",
        "colab_type": "text"
      },
      "source": [
        "<div class=\"alert alert-block alert-info\" style=\"margin-top: 20px\">\n",
        "\n",
        "\n",
        "<ul>\n",
        "    <li><a href=\"#download_data\"> Download data</a></li>\n",
        "    <li><a href=\"#auxiliary\"> Imports and Auxiliary Functions </a></li>\n",
        "    <li><a href=\"#data_class\"> Dataset Class</a></li>\n",
        "    <li><a href=\"#trasform_Data_object\">Transform Object and Dataset Object</a></li>\n",
        "    <li><a href=\"#Question\">Question</a></li>\n",
        "</ul>\n",
        "<p>Estimated Time Needed: <strong>25 min</strong></p>\n",
        " </div>\n",
        "<hr>\n"
      ]
    },
    {
      "cell_type": "markdown",
      "metadata": {
        "id": "K-E45vZ8Vk6w",
        "colab_type": "text"
      },
      "source": [
        "<h2 id=\"download_data\">Download Data</h2>"
      ]
    },
    {
      "cell_type": "markdown",
      "metadata": {
        "id": "XxF9_37iVk6x",
        "colab_type": "text"
      },
      "source": [
        "In this section, you are going to download the data from IBM object storage using <b>wget</b>, then unzip them.  <b>wget</b> is a command the retrieves content from web servers, in this case its a zip file. Locally we store the data in the directory  <b>/resources/data</b> . The <b>-p</b> creates the entire directory tree up to the given directory."
      ]
    },
    {
      "cell_type": "markdown",
      "metadata": {
        "id": "xJN5GbP6Vk6x",
        "colab_type": "text"
      },
      "source": [
        "First, we download the file that contains the images, if you dint do this in your first lab uncomment:"
      ]
    },
    {
      "cell_type": "code",
      "metadata": {
        "id": "V3tfQQLuVk6y",
        "colab_type": "code",
        "colab": {
          "base_uri": "https://localhost:8080/",
          "height": 224
        },
        "outputId": "5a96b5e5-06fa-4d14-c21c-759f213c8705"
      },
      "source": [
        "!wget https://s3-api.us-geo.objectstorage.softlayer.net/cf-courses-data/CognitiveClass/DL0321EN/data/images/concrete_crack_images_for_classification.zip -P /resources/data"
      ],
      "execution_count": 7,
      "outputs": [
        {
          "output_type": "stream",
          "text": [
            "--2020-07-23 16:16:30--  https://s3-api.us-geo.objectstorage.softlayer.net/cf-courses-data/CognitiveClass/DL0321EN/data/images/concrete_crack_images_for_classification.zip\n",
            "Resolving s3-api.us-geo.objectstorage.softlayer.net (s3-api.us-geo.objectstorage.softlayer.net)... 67.228.254.196\n",
            "Connecting to s3-api.us-geo.objectstorage.softlayer.net (s3-api.us-geo.objectstorage.softlayer.net)|67.228.254.196|:443... connected.\n",
            "HTTP request sent, awaiting response... 200 OK\n",
            "Length: 245259777 (234M) [application/zip]\n",
            "Saving to: ‘/resources/data/concrete_crack_images_for_classification.zip’\n",
            "\n",
            "concrete_crack_imag 100%[===================>] 233.90M  20.1MB/s    in 11s     \n",
            "\n",
            "2020-07-23 16:16:41 (21.9 MB/s) - ‘/resources/data/concrete_crack_images_for_classification.zip’ saved [245259777/245259777]\n",
            "\n"
          ],
          "name": "stdout"
        }
      ]
    },
    {
      "cell_type": "markdown",
      "metadata": {
        "id": "8DjPywheVk62",
        "colab_type": "text"
      },
      "source": [
        "We then unzip the file, this ma take a while:"
      ]
    },
    {
      "cell_type": "code",
      "metadata": {
        "id": "zROY8tF4Vk62",
        "colab_type": "code",
        "colab": {}
      },
      "source": [
        "!unzip -q  /resources/data/concrete_crack_images_for_classification.zip -d  /resources/data"
      ],
      "execution_count": 8,
      "outputs": []
    },
    {
      "cell_type": "markdown",
      "metadata": {
        "id": "kUMXVNqBVk65",
        "colab_type": "text"
      },
      "source": [
        "We then download the files that contain the negative images:"
      ]
    },
    {
      "cell_type": "markdown",
      "metadata": {
        "id": "hJ8n5ZQQVk66",
        "colab_type": "text"
      },
      "source": [
        "<h2 id=\"auxiliary\">Imports and Auxiliary Functions</h2>"
      ]
    },
    {
      "cell_type": "markdown",
      "metadata": {
        "id": "-feder4dVk66",
        "colab_type": "text"
      },
      "source": [
        "The following are the libraries we are going to use for this lab:"
      ]
    },
    {
      "cell_type": "code",
      "metadata": {
        "id": "8C3w3xeRVk67",
        "colab_type": "code",
        "colab": {}
      },
      "source": [
        "from PIL import Image\n",
        "import matplotlib.pyplot as plt\n",
        "import os\n",
        "import glob\n",
        "import torch\n",
        "from torch.utils.data import Dataset, DataLoader\n",
        "import torchvision.transforms as transforms\n",
        "import torch.nn as nn\n",
        "from torch import optim "
      ],
      "execution_count": 2,
      "outputs": []
    },
    {
      "cell_type": "markdown",
      "metadata": {
        "id": "tlHEmeoEVk6-",
        "colab_type": "text"
      },
      "source": [
        "<h2 id=\"data_class\">Dataset Class</h2>"
      ]
    },
    {
      "cell_type": "markdown",
      "metadata": {
        "id": "gAdP52zrVk6-",
        "colab_type": "text"
      },
      "source": [
        "In this section, we will use the previous code to build a dataset class. As before, make sure the even samples are positive, and the odd samples are negative.  If the parameter <code>train</code> is set to <code>True</code>, use the first 30 000  samples as training data; otherwise, the remaining samples will be used as validation data. Do not forget to sort your files so they are in the same order.  "
      ]
    },
    {
      "cell_type": "code",
      "metadata": {
        "id": "-dJigexRVk6_",
        "colab_type": "code",
        "colab": {}
      },
      "source": [
        "class Dataset(Dataset):\n",
        "\n",
        "    # Constructor\n",
        "    def __init__(self,transform=None,train=True):\n",
        "        directory=\"/resources/data\"\n",
        "        positive=\"Positive\"\n",
        "        negative=\"Negative\"\n",
        "\n",
        "        positive_file_path=os.path.join(directory,positive)\n",
        "        negative_file_path=os.path.join(directory,negative)\n",
        "        positive_files=[os.path.join(positive_file_path,file) for file in  os.listdir(positive_file_path) if file.endswith(\".jpg\")]\n",
        "        positive_files.sort()\n",
        "        negative_files=[os.path.join(negative_file_path,file) for file in  os.listdir(negative_file_path) if file.endswith(\".jpg\")]\n",
        "        negative_files.sort()\n",
        "        number_of_samples=len(positive_files)+len(negative_files)\n",
        "        self.all_files=[None]*number_of_samples\n",
        "        self.all_files[::2]=positive_files\n",
        "        self.all_files[1::2]=negative_files \n",
        "        # The transform is goint to be used on image\n",
        "        self.transform = transform\n",
        "        #torch.LongTensor\n",
        "        self.Y=torch.zeros([number_of_samples]).type(torch.LongTensor)\n",
        "        self.Y[::2]=1\n",
        "        self.Y[1::2]=0\n",
        "        \n",
        "        if train:\n",
        "            self.all_files=self.all_files[0:30000]\n",
        "            self.Y=self.Y[0:30000]\n",
        "            self.len=len(self.all_files)\n",
        "        else:\n",
        "            self.all_files=self.all_files[30000:]\n",
        "            self.Y=self.Y[30000:]\n",
        "            self.len=len(self.all_files)    \n",
        "       \n",
        "    # Get the length\n",
        "    def __len__(self):\n",
        "        return self.len\n",
        "    \n",
        "    # Getter\n",
        "    def __getitem__(self, idx):\n",
        "        \n",
        "        \n",
        "        image=Image.open(self.all_files[idx])\n",
        "        y=self.Y[idx]\n",
        "          \n",
        "        \n",
        "        # If there is any transform method, apply it onto the image\n",
        "        if self.transform:\n",
        "            image = self.transform(image)\n",
        "\n",
        "        return image, y"
      ],
      "execution_count": 3,
      "outputs": []
    },
    {
      "cell_type": "markdown",
      "metadata": {
        "id": "pu1ly2bbVk7C",
        "colab_type": "text"
      },
      "source": [
        "<h2 id=\"trasform_Data_object\">Transform Object and Dataset Object</h2>"
      ]
    },
    {
      "cell_type": "markdown",
      "metadata": {
        "id": "34mgATYCVk7C",
        "colab_type": "text"
      },
      "source": [
        "Create a transform object, that uses the <code>Compose</code> function. First use the transform <code>ToTensor()</code> and followed by <code>Normalize(mean, std)</code>. The value for <code> mean</code> and <code>std</code> are provided for you."
      ]
    },
    {
      "cell_type": "code",
      "metadata": {
        "id": "IiwKgATOVk7D",
        "colab_type": "code",
        "colab": {}
      },
      "source": [
        "mean = [0.485, 0.456, 0.406]\n",
        "std = [0.229, 0.224, 0.225]\n",
        "# transforms.ToTensor()\n",
        "#transforms.Normalize(mean, std)\n",
        "#transforms.Compose([])\n",
        "\n",
        "transform =transforms.Compose([ transforms.ToTensor(), transforms.Normalize(mean, std)])\n"
      ],
      "execution_count": 4,
      "outputs": []
    },
    {
      "cell_type": "markdown",
      "metadata": {
        "id": "uVBkNbQvVk7G",
        "colab_type": "text"
      },
      "source": [
        "Create object for the training data  <code>dataset_train</code> and validation <code>dataset_val</code>. Use the transform object to convert the images to tensors using the transform object:"
      ]
    },
    {
      "cell_type": "code",
      "metadata": {
        "id": "CGyphkcJVk7G",
        "colab_type": "code",
        "colab": {}
      },
      "source": [
        "dataset_train=Dataset(transform=transform,train=True)\n",
        "dataset_val=Dataset(transform=transform,train=False)"
      ],
      "execution_count": 5,
      "outputs": []
    },
    {
      "cell_type": "markdown",
      "metadata": {
        "id": "jPhzomu8Vk7J",
        "colab_type": "text"
      },
      "source": [
        "We  can find the shape of the image:"
      ]
    },
    {
      "cell_type": "code",
      "metadata": {
        "id": "oIu3uuKgVk7J",
        "colab_type": "code",
        "colab": {
          "base_uri": "https://localhost:8080/",
          "height": 34
        },
        "outputId": "2ba125ce-33e9-4032-fb1b-72eda1219a0d"
      },
      "source": [
        "dataset_train[0][0].shape"
      ],
      "execution_count": 6,
      "outputs": [
        {
          "output_type": "execute_result",
          "data": {
            "text/plain": [
              "torch.Size([3, 227, 227])"
            ]
          },
          "metadata": {
            "tags": []
          },
          "execution_count": 6
        }
      ]
    },
    {
      "cell_type": "markdown",
      "metadata": {
        "id": "HYnn3-iOVk7M",
        "colab_type": "text"
      },
      "source": [
        "We see that it's a color image with three channels:"
      ]
    },
    {
      "cell_type": "code",
      "metadata": {
        "id": "UG-zsUIEVk7M",
        "colab_type": "code",
        "colab": {
          "base_uri": "https://localhost:8080/",
          "height": 34
        },
        "outputId": "6aa4677d-988e-42cf-b348-5437ae164746"
      },
      "source": [
        "size_of_image=3*227*227\n",
        "size_of_image"
      ],
      "execution_count": 7,
      "outputs": [
        {
          "output_type": "execute_result",
          "data": {
            "text/plain": [
              "154587"
            ]
          },
          "metadata": {
            "tags": []
          },
          "execution_count": 7
        }
      ]
    },
    {
      "cell_type": "markdown",
      "metadata": {
        "id": "TJc9gx8jVk7Q",
        "colab_type": "text"
      },
      "source": [
        "<h2 id=\"Question\"> Question <h2>"
      ]
    },
    {
      "cell_type": "markdown",
      "metadata": {
        "id": "HiBvzQ9QVk7R",
        "colab_type": "text"
      },
      "source": [
        "<b> Create a custom module for Softmax for two classes,called model. The input size should be the <code>size_of_image</code>, you should record the maximum accuracy achieved on the validation data for the different epochs. For example if the 5 epochs the accuracy was 0.5, 0.2, 0.64,0.77, 0.66 you would select 0.77.</b>"
      ]
    },
    {
      "cell_type": "markdown",
      "metadata": {
        "id": "aCSxPMD2Vk7S",
        "colab_type": "text"
      },
      "source": [
        "Train the model with the following free parameter values:"
      ]
    },
    {
      "cell_type": "markdown",
      "metadata": {
        "id": "Iw2x6C6yVk7S",
        "colab_type": "text"
      },
      "source": [
        "<b>Parameter Values</b>\n",
        "   <li>learning rate:0.1 </li>\n",
        "   <li>momentum term:0.1 </li>\n",
        "   <li>batch size training:1000</li>\n",
        "   <li>Loss function:Cross Entropy Loss </li>\n",
        "   <li>epochs:5</li>\n",
        "   <li>set: torch.manual_seed(0)</li>"
      ]
    },
    {
      "cell_type": "code",
      "metadata": {
        "id": "C0jqVEOWes5p",
        "colab_type": "code",
        "colab": {}
      },
      "source": [
        "learning_rate = 0.1\n",
        "mome = 0.1\n",
        "batch_size = 1000\n",
        "n_epochs = 5\n",
        "size_of_output = 2"
      ],
      "execution_count": 47,
      "outputs": []
    },
    {
      "cell_type": "code",
      "metadata": {
        "id": "c4FfZ29XVk7T",
        "colab_type": "code",
        "colab": {
          "base_uri": "https://localhost:8080/",
          "height": 34
        },
        "outputId": "a686105f-082a-455b-8f03-57c72cfc57e1"
      },
      "source": [
        "torch.manual_seed(0)"
      ],
      "execution_count": 30,
      "outputs": [
        {
          "output_type": "execute_result",
          "data": {
            "text/plain": [
              "<torch._C.Generator at 0x7fb8ff03a070>"
            ]
          },
          "metadata": {
            "tags": []
          },
          "execution_count": 30
        }
      ]
    },
    {
      "cell_type": "code",
      "metadata": {
        "id": "yXT5FwsreQft",
        "colab_type": "code",
        "colab": {
          "base_uri": "https://localhost:8080/",
          "height": 34
        },
        "outputId": "78c4a613-4a25-4a12-eb03-91d7a6c19963"
      },
      "source": [
        "dataset_train.len"
      ],
      "execution_count": 31,
      "outputs": [
        {
          "output_type": "execute_result",
          "data": {
            "text/plain": [
              "30000"
            ]
          },
          "metadata": {
            "tags": []
          },
          "execution_count": 31
        }
      ]
    },
    {
      "cell_type": "markdown",
      "metadata": {
        "id": "Xb3QINvKVk7W",
        "colab_type": "text"
      },
      "source": [
        "<b>Custom Module:</b>"
      ]
    },
    {
      "cell_type": "code",
      "metadata": {
        "id": "Mce-QtkwfgjG",
        "colab_type": "code",
        "colab": {}
      },
      "source": [
        "class SoftMax(nn.Module):\n",
        "  def __init__(self, in_size, out_size):\n",
        "    super(SoftMax, self).__init__()\n",
        "    self.linear = nn.Linear(in_size, size_of_output)\n",
        "\n",
        "  def forward(self, x):\n",
        "    out = self.linear(x)\n",
        "    return out"
      ],
      "execution_count": 32,
      "outputs": []
    },
    {
      "cell_type": "code",
      "metadata": {
        "id": "2tRkeVbhVk7W",
        "colab_type": "code",
        "colab": {}
      },
      "source": [
        ""
      ],
      "execution_count": null,
      "outputs": []
    },
    {
      "cell_type": "markdown",
      "metadata": {
        "id": "8-DhR_JUVk7a",
        "colab_type": "text"
      },
      "source": [
        "<b>Model Object:</b>"
      ]
    },
    {
      "cell_type": "code",
      "metadata": {
        "id": "tCC6z-QVVk7b",
        "colab_type": "code",
        "colab": {}
      },
      "source": [
        "model = SoftMax(size_of_image, size_of_output)"
      ],
      "execution_count": 33,
      "outputs": []
    },
    {
      "cell_type": "code",
      "metadata": {
        "id": "hdBCgV4y8aBk",
        "colab_type": "code",
        "colab": {
          "base_uri": "https://localhost:8080/",
          "height": 51
        },
        "outputId": "f603aa6f-088f-423f-9190-c6f8ee03e18d"
      },
      "source": [
        "print('W: ',list(model.parameters())[0].size())\n",
        "print('b: ',list(model.parameters())[1].size())"
      ],
      "execution_count": 34,
      "outputs": [
        {
          "output_type": "stream",
          "text": [
            "W:  torch.Size([2, 154587])\n",
            "b:  torch.Size([2])\n"
          ],
          "name": "stdout"
        }
      ]
    },
    {
      "cell_type": "markdown",
      "metadata": {
        "id": "5zQ6HiGlVk7e",
        "colab_type": "text"
      },
      "source": [
        "<b>Optimizer:</b>"
      ]
    },
    {
      "cell_type": "code",
      "metadata": {
        "id": "YIzQjF-gVk7f",
        "colab_type": "code",
        "colab": {}
      },
      "source": [
        "optimizer = torch.optim.SGD(model.parameters(), lr=learning_rate, momentum=mome)"
      ],
      "execution_count": 35,
      "outputs": []
    },
    {
      "cell_type": "markdown",
      "metadata": {
        "id": "UMvP2TFZVk7i",
        "colab_type": "text"
      },
      "source": [
        "<b>Criterion:</b>"
      ]
    },
    {
      "cell_type": "code",
      "metadata": {
        "id": "7nO6QMbLVk7j",
        "colab_type": "code",
        "colab": {}
      },
      "source": [
        "criterion = nn.CrossEntropyLoss()"
      ],
      "execution_count": 37,
      "outputs": []
    },
    {
      "cell_type": "markdown",
      "metadata": {
        "id": "RLxYP9AiVk7m",
        "colab_type": "text"
      },
      "source": [
        "<b>Data Loader Training and Validation:</b>"
      ]
    },
    {
      "cell_type": "code",
      "metadata": {
        "id": "c_xrNn5oVk7n",
        "colab_type": "code",
        "colab": {}
      },
      "source": [
        "data_loader_train = DataLoader(dataset_train, batch_size=batch_size)\n",
        "data_loader_val = DataLoader(dataset_val, batch_size=batch_size)"
      ],
      "execution_count": 18,
      "outputs": []
    },
    {
      "cell_type": "markdown",
      "metadata": {
        "id": "7-ifDn0wVk7q",
        "colab_type": "text"
      },
      "source": [
        "<b>Train Model with 5 epochs, should take 35 minutes: </b>"
      ]
    },
    {
      "cell_type": "code",
      "metadata": {
        "id": "OBxQBwrjVk7r",
        "colab_type": "code",
        "colab": {}
      },
      "source": [
        "loss_list = []\n",
        "accuracy_list = []\n",
        "num_val = len(dataset_val)\n",
        "\n",
        "def train_model(n_epochs):\n",
        "  for epoch in range(n_epochs):\n",
        "    for X, y in data_loader_train:\n",
        "      # set gradient to 0\n",
        "      optimizer.zero_grad()\n",
        "      # feed forward\n",
        "      output = model(X.view(-1, size_of_image))\n",
        "      # Loss calculation\n",
        "      loss = criterion(output, y)\n",
        "      # Gradient calculation\n",
        "      loss.backward()\n",
        "      # Model weight modification based on the optimizer. \n",
        "      optimizer.step()\n",
        "\n",
        "    correct = 0\n",
        "    for X_val, y_val in data_loader_val:\n",
        "      output_val = model(X_val.view(-1, size_of_image))\n",
        "      _, y_val_hat = torch.max(output_val.data, 1)\n",
        "      correct += (y_val_hat == y_val).sum().item()\n",
        "      \n",
        "    accuracy = correct / num_val\n",
        "    print(\"Epoch: {}. Accuracy: {}.\".format(epoch, accuracy))\n",
        "    loss_list.append(loss.data)\n",
        "      \n",
        "    accuracy_list.append(accuracy)"
      ],
      "execution_count": 51,
      "outputs": []
    },
    {
      "cell_type": "code",
      "metadata": {
        "id": "2Zbeme4M6m7N",
        "colab_type": "code",
        "colab": {
          "base_uri": "https://localhost:8080/",
          "height": 102
        },
        "outputId": "4ca60678-12bb-4fe2-93cf-2cf93ac037b6"
      },
      "source": [
        "train_model(n_epochs)"
      ],
      "execution_count": 52,
      "outputs": [
        {
          "output_type": "stream",
          "text": [
            "Epoch: 0. Accuracy: 0.567.\n",
            "Epoch: 1. Accuracy: 0.7608.\n",
            "Epoch: 2. Accuracy: 0.756.\n",
            "Epoch: 3. Accuracy: 0.7453.\n",
            "Epoch: 4. Accuracy: 0.5755.\n"
          ],
          "name": "stdout"
        }
      ]
    },
    {
      "cell_type": "code",
      "metadata": {
        "id": "mjdBOUd7DMrM",
        "colab_type": "code",
        "colab": {
          "base_uri": "https://localhost:8080/",
          "height": 34
        },
        "outputId": "a0a533a9-82f7-4ca1-9596-37f5c965547f"
      },
      "source": [
        "accuracy_list"
      ],
      "execution_count": 53,
      "outputs": [
        {
          "output_type": "execute_result",
          "data": {
            "text/plain": [
              "[0.567, 0.7608, 0.756, 0.7453, 0.5755]"
            ]
          },
          "metadata": {
            "tags": []
          },
          "execution_count": 53
        }
      ]
    },
    {
      "cell_type": "code",
      "metadata": {
        "id": "9VcCAfeEE97p",
        "colab_type": "code",
        "colab": {
          "base_uri": "https://localhost:8080/",
          "height": 102
        },
        "outputId": "afe646ac-e44f-4247-f145-5880f045d77c"
      },
      "source": [
        "loss_list"
      ],
      "execution_count": 54,
      "outputs": [
        {
          "output_type": "execute_result",
          "data": {
            "text/plain": [
              "[tensor(1522.7980),\n",
              " tensor(2828.7859),\n",
              " tensor(2830.5500),\n",
              " tensor(3164.7698),\n",
              " tensor(1204.3848)]"
            ]
          },
          "metadata": {
            "tags": []
          },
          "execution_count": 54
        }
      ]
    },
    {
      "cell_type": "code",
      "metadata": {
        "id": "ZFmIRIz_AVrG",
        "colab_type": "code",
        "colab": {
          "base_uri": "https://localhost:8080/",
          "height": 297
        },
        "outputId": "8dcfab35-a171-40c0-a702-f442ff38fb4b"
      },
      "source": [
        "fig, ax1 = plt.subplots()\n",
        "color = 'tab:red'\n",
        "ax1.plot(loss_list,color=color)\n",
        "ax1.set_xlabel('epoch',color=color)\n",
        "ax1.set_ylabel('total loss',color=color)\n",
        "ax1.tick_params(axis='y', color=color)\n",
        "\n",
        "\n",
        "ax2 = ax1.twinx()\n",
        "color = 'tab:blue'\n",
        "ax2.set_ylabel('accuracy', color=color)\n",
        "ax2.plot( accuracy_list, color=color)\n",
        "ax2.tick_params(axis='y', color=color)\n",
        "fig.tight_layout()\n",
        "\n",
        "fig.savefig('accuracy.png', dpi=300)"
      ],
      "execution_count": 55,
      "outputs": [
        {
          "output_type": "display_data",
          "data": {
            "image/png": "[encoded data removed]",
            "text/plain": [
              "<Figure size 432x288 with 2 Axes>"
            ]
          },
          "metadata": {
            "tags": [],
            "needs_background": "light"
          }
        }
      ]
    },
    {
      "cell_type": "markdown",
      "metadata": {
        "id": "rLGfDI9WVk7u",
        "colab_type": "text"
      },
      "source": [
        "<h2>About the Authors:</h2>\n",
        " <a href=\\\"https://www.linkedin.com/in/joseph-s-50398b136/\\\">Joseph Santarcangelo</a> has a PhD in Electrical Engineering, his research focused on using machine learning, signal processing, and computer vision to determine how videos impact human cognition. Joseph has been working for IBM since he completed his PhD."
      ]
    },
    {
      "cell_type": "markdown",
      "metadata": {
        "id": "O-4IFNdwVk7u",
        "colab_type": "text"
      },
      "source": [
        "Copyright &copy; 2019 <a href=\"cognitiveclass.ai\"> cognitiveclass.ai</a>. This notebook and its source code are released under the terms of the <a href=\"https://bigdatauniversity.com/mit-license/\">MIT License</a>"
      ]
    },
    {
      "cell_type": "code",
      "metadata": {
        "id": "O_sl_LwuVk7v",
        "colab_type": "code",
        "colab": {}
      },
      "source": [
        ""
      ],
      "execution_count": null,
      "outputs": []
    }
  ]
}